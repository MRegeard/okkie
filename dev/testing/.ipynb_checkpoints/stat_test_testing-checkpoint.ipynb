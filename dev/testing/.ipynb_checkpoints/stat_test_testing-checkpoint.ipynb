{
 "cells": [
  {
   "cell_type": "code",
   "execution_count": 4,
   "id": "4e2d7822-1ab0-491a-b5db-fd909cf748a5",
   "metadata": {},
   "outputs": [],
   "source": [
    "from pint.eventstats import hm, z2m"
   ]
  },
  {
   "cell_type": "code",
   "execution_count": 5,
   "id": "aa23985c-7ace-4c67-b692-7c57fbe2092b",
   "metadata": {},
   "outputs": [
    {
     "ename": "ModuleNotFoundError",
     "evalue": "No module named 'okkie'",
     "output_type": "error",
     "traceback": [
      "\u001b[0;31m---------------------------------------------------------------------------\u001b[0m",
      "\u001b[0;31mModuleNotFoundError\u001b[0m                       Traceback (most recent call last)",
      "Cell \u001b[0;32mIn[5], line 1\u001b[0m\n\u001b[0;32m----> 1\u001b[0m \u001b[38;5;28;01mfrom\u001b[39;00m \u001b[38;5;21;01mokkie\u001b[39;00m\u001b[38;5;21;01m.\u001b[39;00m\u001b[38;5;21;01mstats\u001b[39;00m \u001b[38;5;28;01mimport\u001b[39;00m HTest, ZmTest\n",
      "\u001b[0;31mModuleNotFoundError\u001b[0m: No module named 'okkie'"
     ]
    }
   ],
   "source": [
    "from okkie.stats import HTest, ZmTest"
   ]
  },
  {
   "cell_type": "code",
   "execution_count": null,
   "id": "803c4a4a-dbd7-41a4-bf41-ec643a47a87d",
   "metadata": {},
   "outputs": [],
   "source": []
  }
 ],
 "metadata": {
  "kernelspec": {
   "display_name": "Python 3 (ipykernel)",
   "language": "python",
   "name": "python3"
  },
  "language_info": {
   "codemirror_mode": {
    "name": "ipython",
    "version": 3
   },
   "file_extension": ".py",
   "mimetype": "text/x-python",
   "name": "python",
   "nbconvert_exporter": "python",
   "pygments_lexer": "ipython3",
   "version": "3.9.18"
  }
 },
 "nbformat": 4,
 "nbformat_minor": 5
}
