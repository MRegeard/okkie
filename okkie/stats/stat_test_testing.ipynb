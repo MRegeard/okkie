{
 "cells": [
  {
   "cell_type": "code",
   "execution_count": 1,
   "id": "4e2d7822-1ab0-491a-b5db-fd909cf748a5",
   "metadata": {},
   "outputs": [],
   "source": [
    "from pint.eventstats import hm, z2m"
   ]
  },
  {
   "cell_type": "code",
   "execution_count": 3,
   "id": "aa23985c-7ace-4c67-b692-7c57fbe2092b",
   "metadata": {},
   "outputs": [],
   "source": [
    "from periodicity_tests import HTest, ZmTest"
   ]
  },
  {
   "cell_type": "code",
   "execution_count": null,
   "id": "803c4a4a-dbd7-41a4-bf41-ec643a47a87d",
   "metadata": {},
   "outputs": [],
   "source": [
    "from gammapy.data import EventL"
   ]
  }
 ],
 "metadata": {
  "kernelspec": {
   "display_name": "Python 3 (ipykernel)",
   "language": "python",
   "name": "python3"
  },
  "language_info": {
   "codemirror_mode": {
    "name": "ipython",
    "version": 3
   },
   "file_extension": ".py",
   "mimetype": "text/x-python",
   "name": "python",
   "nbconvert_exporter": "python",
   "pygments_lexer": "ipython3",
   "version": "3.9.18"
  }
 },
 "nbformat": 4,
 "nbformat_minor": 5
}
